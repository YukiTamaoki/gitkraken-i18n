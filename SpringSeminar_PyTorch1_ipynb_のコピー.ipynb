{
  "nbformat": 4,
  "nbformat_minor": 0,
  "metadata": {
    "colab": {
      "name": "SpringSeminar_PyTorch1.ipynb のコピー",
      "provenance": [],
      "collapsed_sections": [],
      "include_colab_link": true
    },
    "kernelspec": {
      "name": "python3",
      "display_name": "Python 3"
    },
    "accelerator": "GPU"
  },
  "cells": [
    {
      "cell_type": "markdown",
      "metadata": {
        "id": "view-in-github",
        "colab_type": "text"
      },
      "source": [
        "<a href=\"https://colab.research.google.com/github/YukiTamaoki/gitkraken-i18n/blob/master/SpringSeminar_PyTorch1_ipynb_%E3%81%AE%E3%82%B3%E3%83%94%E3%83%BC.ipynb\" target=\"_parent\"><img src=\"https://colab.research.google.com/assets/colab-badge.svg\" alt=\"Open In Colab\"/></a>"
      ]
    },
    {
      "cell_type": "markdown",
      "metadata": {
        "id": "rtIA73LHKvkG"
      },
      "source": [
        "# 春の勉強会 (PyTorch1)"
      ]
    },
    {
      "cell_type": "markdown",
      "metadata": {
        "id": "vjF5-j2bK8lT"
      },
      "source": [
        "## モジュールの呼び出し"
      ]
    },
    {
      "cell_type": "code",
      "metadata": {
        "id": "RIdcSJ6gEqwe"
      },
      "source": [
        "import numpy as np\n",
        "import argparse\n",
        "import sys\n",
        "\n",
        "import urllib\n",
        "import zipfile\n",
        "import os\n",
        "\n",
        "import torch\n",
        "import torch.nn as nn #計算グラフの構築に使用\n",
        "import torch.optim as optim #最適化アルゴリズム\n",
        "import torchsummary #特徴マップのサイズ確認\n",
        "import torchvision #機械学習のフレームワーク\n",
        "import torchvision.transforms as transform #画像変換\n",
        "from torch.utils.data import DataLoader, Dataset #Detaloader\n",
        "from torchvision.datasets import MNIST\n",
        "from torch.autograd import Variable #自動で微分"
      ],
      "execution_count": 3,
      "outputs": []
    },
    {
      "cell_type": "markdown",
      "metadata": {
        "id": "K02D2UnzLF0T"
      },
      "source": [
        "## モデルクラスの定義"
      ]
    },
    {
      "cell_type": "code",
      "metadata": {
        "id": "ZRep2auGE0Y5"
      },
      "source": [
        "class NN(nn.Module):\n",
        "    def __init__(self,in_size,hidden_size,out_size):\n",
        "        super(NN,self).__init__()\n",
        "        self.xh = nn.Linear(in_size,hidden_size) #全結合層\n",
        "        self.ho = nn.Linear(hidden_size,out_size) #全結合層\n",
        "        self.act = nn.ReLU() #ReLU関数\n",
        "        self.softmax = nn.Softmax(dim=1)\n",
        "    def forward(self,x,train=False):\n",
        "        x = x.view(-1,28*28) #28*28に調整\n",
        "        h = self.act(self.xh(x))\n",
        "        y = self.act(self.ho(h))\n",
        "        if train:\n",
        "            return y\n",
        "        return self.softmax(y)"
      ],
      "execution_count": 4,
      "outputs": []
    },
    {
      "cell_type": "markdown",
      "metadata": {
        "id": "kmQPVRgpLL6K"
      },
      "source": [
        "## パラメータの設定"
      ]
    },
    {
      "cell_type": "code",
      "metadata": {
        "id": "luDeoOn4E2N0"
      },
      "source": [
        "parser=argparse.ArgumentParser()\n",
        "parser.add_argument('--epoch',type=int,default=10,help='number of epoch')\n",
        "parser.add_argument('--in_size',type=int,default=784,help='input size')\n",
        "parser.add_argument('--hidden_size',type=int,default=50,help='hidden size')\n",
        "parser.add_argument('--out_size',type=int,default=10,help='output size')\n",
        "parser.add_argument('--batch_size',type=int,default=32,help='number of batch size')\n",
        "parser.add_argument('--lr',type=float,default=0.01,help='number of learning rate')\n",
        "args=parser.parse_args(args=[])"
      ],
      "execution_count": 5,
      "outputs": []
    },
    {
      "cell_type": "markdown",
      "metadata": {
        "id": "b8gB-XvULUJt"
      },
      "source": [
        "## データセットのダウンロード"
      ]
    },
    {
      "cell_type": "markdown",
      "metadata": {
        "id": "Plm8o5ywPwx5"
      },
      "source": [
        "足立先輩のdropboxからMNISTをダウンロード\n"
      ]
    },
    {
      "cell_type": "code",
      "metadata": {
        "id": "1d0Vi5MwEzXC"
      },
      "source": [
        "class MNIST_Loader(Dataset):\n",
        "  def __init__(self, train=True, download=True, transform=None):\n",
        "    self.transform = transform\n",
        "    self.url = 'https://www.dropbox.com/s/hc7ukm7vzst5e40/MNIST.zip?dl=1'\n",
        "    \n",
        "    if download:\n",
        "      self._download()\n",
        "    \n",
        "    dname = os.path.join(self.url.rpartition('/')[2][:-9], 'processed')\n",
        "    if train:\n",
        "      datapath = os.path.join(dname, 'training.pt')\n",
        "    else:\n",
        "      datapath = os.path.join(dname, 'test.pt')\n",
        "  \n",
        "    self.data = torch.load(datapath)\n",
        "\n",
        "  def __len__(self):\n",
        "    return len(self.data[0])\n",
        "\n",
        "  def _download(self):\n",
        "    filename = self.url.rpartition('/')[2][:-5]\n",
        "    urllib.request.urlretrieve(self.url, filename)\n",
        "\n",
        "    with zipfile.ZipFile(filename) as existing_zip:\n",
        "      existing_zip.extractall()\n",
        "    os.remove(filename)\n",
        "\n",
        "  def __getitem__(self, i):\n",
        "    image = transform.ToPILImage()(self.data[0][i])\n",
        "    label = self.data[1][i]\n",
        "\n",
        "    if self.transform:\n",
        "      image = self.transform(image)\n",
        "    return image, label"
      ],
      "execution_count": 6,
      "outputs": []
    },
    {
      "cell_type": "code",
      "metadata": {
        "colab": {
          "base_uri": "https://localhost:8080/"
        },
        "id": "GIoVQU6aLC5c",
        "outputId": "b70f2a19-bfd1-4508-a030-b3d9c10abaeb"
      },
      "source": [
        "try:\n",
        "  mnist_data = MNIST(root='./data', train=True, transform=transform.ToTensor(), download=True)\n",
        "except: #例外処理\n",
        "  print('Warning: Switch the original implementation because official MNIST data did not download (probably the official server has down).')\n",
        "  mnist_data = MNIST_Loader(train=True, download=True, transform=transform.ToTensor())\n",
        "print('Done!')"
      ],
      "execution_count": 7,
      "outputs": [
        {
          "output_type": "stream",
          "text": [
            "Done!\n"
          ],
          "name": "stdout"
        }
      ]
    },
    {
      "cell_type": "markdown",
      "metadata": {
        "id": "3caI8NE-LbDc"
      },
      "source": [
        "## 学習用データと評価用データを用意"
      ]
    },
    {
      "cell_type": "code",
      "metadata": {
        "id": "9ywA_pHxE6P-"
      },
      "source": [
        "train_loader=DataLoader(mnist_data,batch_size=args.batch_size,shuffle=True)\n",
        "test_loader=DataLoader(mnist_data,batch_size=1,shuffle=True)"
      ],
      "execution_count": 8,
      "outputs": []
    },
    {
      "cell_type": "markdown",
      "metadata": {
        "id": "EzJXLdS6LiJT"
      },
      "source": [
        "## モデルの読み込み"
      ]
    },
    {
      "cell_type": "code",
      "metadata": {
        "id": "M9ZcTuvlE76f"
      },
      "source": [
        "model=NN(args.in_size,args.hidden_size,args.out_size)"
      ],
      "execution_count": 9,
      "outputs": []
    },
    {
      "cell_type": "code",
      "metadata": {
        "colab": {
          "base_uri": "https://localhost:8080/",
          "height": 318
        },
        "id": "L70kab6cU5b1",
        "outputId": "a103ad82-5e6b-4250-d12d-bf599d20cc4b"
      },
      "source": [
        "torchsummary.summary(model, (1,28,28)) #確認用"
      ],
      "execution_count": 10,
      "outputs": [
        {
          "output_type": "error",
          "ename": "RuntimeError",
          "evalue": "ignored",
          "traceback": [
            "\u001b[0;31m---------------------------------------------------------------------------\u001b[0m",
            "\u001b[0;31mRuntimeError\u001b[0m                              Traceback (most recent call last)",
            "\u001b[0;32m<ipython-input-10-a332f58adae6>\u001b[0m in \u001b[0;36m<module>\u001b[0;34m()\u001b[0m\n\u001b[0;32m----> 1\u001b[0;31m \u001b[0mtorchsummary\u001b[0m\u001b[0;34m.\u001b[0m\u001b[0msummary\u001b[0m\u001b[0;34m(\u001b[0m\u001b[0mmodel\u001b[0m\u001b[0;34m,\u001b[0m \u001b[0;34m(\u001b[0m\u001b[0;36m1\u001b[0m\u001b[0;34m,\u001b[0m\u001b[0;36m28\u001b[0m\u001b[0;34m,\u001b[0m\u001b[0;36m28\u001b[0m\u001b[0;34m)\u001b[0m\u001b[0;34m)\u001b[0m \u001b[0;31m#確認用\u001b[0m\u001b[0;34m\u001b[0m\u001b[0;34m\u001b[0m\u001b[0m\n\u001b[0m",
            "\u001b[0;32m/usr/local/lib/python3.7/dist-packages/torchsummary/torchsummary.py\u001b[0m in \u001b[0;36msummary\u001b[0;34m(model, input_size, batch_size, device)\u001b[0m\n\u001b[1;32m     70\u001b[0m     \u001b[0;31m# make a forward pass\u001b[0m\u001b[0;34m\u001b[0m\u001b[0;34m\u001b[0m\u001b[0;34m\u001b[0m\u001b[0m\n\u001b[1;32m     71\u001b[0m     \u001b[0;31m# print(x.shape)\u001b[0m\u001b[0;34m\u001b[0m\u001b[0;34m\u001b[0m\u001b[0;34m\u001b[0m\u001b[0m\n\u001b[0;32m---> 72\u001b[0;31m     \u001b[0mmodel\u001b[0m\u001b[0;34m(\u001b[0m\u001b[0;34m*\u001b[0m\u001b[0mx\u001b[0m\u001b[0;34m)\u001b[0m\u001b[0;34m\u001b[0m\u001b[0;34m\u001b[0m\u001b[0m\n\u001b[0m\u001b[1;32m     73\u001b[0m \u001b[0;34m\u001b[0m\u001b[0m\n\u001b[1;32m     74\u001b[0m     \u001b[0;31m# remove these hooks\u001b[0m\u001b[0;34m\u001b[0m\u001b[0;34m\u001b[0m\u001b[0;34m\u001b[0m\u001b[0m\n",
            "\u001b[0;32m/usr/local/lib/python3.7/dist-packages/torch/nn/modules/module.py\u001b[0m in \u001b[0;36m_call_impl\u001b[0;34m(self, *input, **kwargs)\u001b[0m\n\u001b[1;32m    887\u001b[0m             \u001b[0mresult\u001b[0m \u001b[0;34m=\u001b[0m \u001b[0mself\u001b[0m\u001b[0;34m.\u001b[0m\u001b[0m_slow_forward\u001b[0m\u001b[0;34m(\u001b[0m\u001b[0;34m*\u001b[0m\u001b[0minput\u001b[0m\u001b[0;34m,\u001b[0m \u001b[0;34m**\u001b[0m\u001b[0mkwargs\u001b[0m\u001b[0;34m)\u001b[0m\u001b[0;34m\u001b[0m\u001b[0;34m\u001b[0m\u001b[0m\n\u001b[1;32m    888\u001b[0m         \u001b[0;32melse\u001b[0m\u001b[0;34m:\u001b[0m\u001b[0;34m\u001b[0m\u001b[0;34m\u001b[0m\u001b[0m\n\u001b[0;32m--> 889\u001b[0;31m             \u001b[0mresult\u001b[0m \u001b[0;34m=\u001b[0m \u001b[0mself\u001b[0m\u001b[0;34m.\u001b[0m\u001b[0mforward\u001b[0m\u001b[0;34m(\u001b[0m\u001b[0;34m*\u001b[0m\u001b[0minput\u001b[0m\u001b[0;34m,\u001b[0m \u001b[0;34m**\u001b[0m\u001b[0mkwargs\u001b[0m\u001b[0;34m)\u001b[0m\u001b[0;34m\u001b[0m\u001b[0;34m\u001b[0m\u001b[0m\n\u001b[0m\u001b[1;32m    890\u001b[0m         for hook in itertools.chain(\n\u001b[1;32m    891\u001b[0m                 \u001b[0m_global_forward_hooks\u001b[0m\u001b[0;34m.\u001b[0m\u001b[0mvalues\u001b[0m\u001b[0;34m(\u001b[0m\u001b[0;34m)\u001b[0m\u001b[0;34m,\u001b[0m\u001b[0;34m\u001b[0m\u001b[0;34m\u001b[0m\u001b[0m\n",
            "\u001b[0;32m<ipython-input-4-076d3dee8d52>\u001b[0m in \u001b[0;36mforward\u001b[0;34m(self, x, train)\u001b[0m\n\u001b[1;32m      8\u001b[0m     \u001b[0;32mdef\u001b[0m \u001b[0mforward\u001b[0m\u001b[0;34m(\u001b[0m\u001b[0mself\u001b[0m\u001b[0;34m,\u001b[0m\u001b[0mx\u001b[0m\u001b[0;34m,\u001b[0m\u001b[0mtrain\u001b[0m\u001b[0;34m=\u001b[0m\u001b[0;32mFalse\u001b[0m\u001b[0;34m)\u001b[0m\u001b[0;34m:\u001b[0m\u001b[0;34m\u001b[0m\u001b[0;34m\u001b[0m\u001b[0m\n\u001b[1;32m      9\u001b[0m         \u001b[0mx\u001b[0m \u001b[0;34m=\u001b[0m \u001b[0mx\u001b[0m\u001b[0;34m.\u001b[0m\u001b[0mview\u001b[0m\u001b[0;34m(\u001b[0m\u001b[0;34m-\u001b[0m\u001b[0;36m1\u001b[0m\u001b[0;34m,\u001b[0m\u001b[0;36m28\u001b[0m\u001b[0;34m*\u001b[0m\u001b[0;36m28\u001b[0m\u001b[0;34m)\u001b[0m \u001b[0;31m#28*28に調整\u001b[0m\u001b[0;34m\u001b[0m\u001b[0;34m\u001b[0m\u001b[0m\n\u001b[0;32m---> 10\u001b[0;31m         \u001b[0mh\u001b[0m \u001b[0;34m=\u001b[0m \u001b[0mself\u001b[0m\u001b[0;34m.\u001b[0m\u001b[0mact\u001b[0m\u001b[0;34m(\u001b[0m\u001b[0mself\u001b[0m\u001b[0;34m.\u001b[0m\u001b[0mxh\u001b[0m\u001b[0;34m(\u001b[0m\u001b[0mx\u001b[0m\u001b[0;34m)\u001b[0m\u001b[0;34m)\u001b[0m\u001b[0;34m\u001b[0m\u001b[0;34m\u001b[0m\u001b[0m\n\u001b[0m\u001b[1;32m     11\u001b[0m         \u001b[0my\u001b[0m \u001b[0;34m=\u001b[0m \u001b[0mself\u001b[0m\u001b[0;34m.\u001b[0m\u001b[0mact\u001b[0m\u001b[0;34m(\u001b[0m\u001b[0mself\u001b[0m\u001b[0;34m.\u001b[0m\u001b[0mho\u001b[0m\u001b[0;34m(\u001b[0m\u001b[0mh\u001b[0m\u001b[0;34m)\u001b[0m\u001b[0;34m)\u001b[0m\u001b[0;34m\u001b[0m\u001b[0;34m\u001b[0m\u001b[0m\n\u001b[1;32m     12\u001b[0m         \u001b[0;32mif\u001b[0m \u001b[0mtrain\u001b[0m\u001b[0;34m:\u001b[0m\u001b[0;34m\u001b[0m\u001b[0;34m\u001b[0m\u001b[0m\n",
            "\u001b[0;32m/usr/local/lib/python3.7/dist-packages/torch/nn/modules/module.py\u001b[0m in \u001b[0;36m_call_impl\u001b[0;34m(self, *input, **kwargs)\u001b[0m\n\u001b[1;32m    887\u001b[0m             \u001b[0mresult\u001b[0m \u001b[0;34m=\u001b[0m \u001b[0mself\u001b[0m\u001b[0;34m.\u001b[0m\u001b[0m_slow_forward\u001b[0m\u001b[0;34m(\u001b[0m\u001b[0;34m*\u001b[0m\u001b[0minput\u001b[0m\u001b[0;34m,\u001b[0m \u001b[0;34m**\u001b[0m\u001b[0mkwargs\u001b[0m\u001b[0;34m)\u001b[0m\u001b[0;34m\u001b[0m\u001b[0;34m\u001b[0m\u001b[0m\n\u001b[1;32m    888\u001b[0m         \u001b[0;32melse\u001b[0m\u001b[0;34m:\u001b[0m\u001b[0;34m\u001b[0m\u001b[0;34m\u001b[0m\u001b[0m\n\u001b[0;32m--> 889\u001b[0;31m             \u001b[0mresult\u001b[0m \u001b[0;34m=\u001b[0m \u001b[0mself\u001b[0m\u001b[0;34m.\u001b[0m\u001b[0mforward\u001b[0m\u001b[0;34m(\u001b[0m\u001b[0;34m*\u001b[0m\u001b[0minput\u001b[0m\u001b[0;34m,\u001b[0m \u001b[0;34m**\u001b[0m\u001b[0mkwargs\u001b[0m\u001b[0;34m)\u001b[0m\u001b[0;34m\u001b[0m\u001b[0;34m\u001b[0m\u001b[0m\n\u001b[0m\u001b[1;32m    890\u001b[0m         for hook in itertools.chain(\n\u001b[1;32m    891\u001b[0m                 \u001b[0m_global_forward_hooks\u001b[0m\u001b[0;34m.\u001b[0m\u001b[0mvalues\u001b[0m\u001b[0;34m(\u001b[0m\u001b[0;34m)\u001b[0m\u001b[0;34m,\u001b[0m\u001b[0;34m\u001b[0m\u001b[0;34m\u001b[0m\u001b[0m\n",
            "\u001b[0;32m/usr/local/lib/python3.7/dist-packages/torch/nn/modules/linear.py\u001b[0m in \u001b[0;36mforward\u001b[0;34m(self, input)\u001b[0m\n\u001b[1;32m     92\u001b[0m \u001b[0;34m\u001b[0m\u001b[0m\n\u001b[1;32m     93\u001b[0m     \u001b[0;32mdef\u001b[0m \u001b[0mforward\u001b[0m\u001b[0;34m(\u001b[0m\u001b[0mself\u001b[0m\u001b[0;34m,\u001b[0m \u001b[0minput\u001b[0m\u001b[0;34m:\u001b[0m \u001b[0mTensor\u001b[0m\u001b[0;34m)\u001b[0m \u001b[0;34m->\u001b[0m \u001b[0mTensor\u001b[0m\u001b[0;34m:\u001b[0m\u001b[0;34m\u001b[0m\u001b[0;34m\u001b[0m\u001b[0m\n\u001b[0;32m---> 94\u001b[0;31m         \u001b[0;32mreturn\u001b[0m \u001b[0mF\u001b[0m\u001b[0;34m.\u001b[0m\u001b[0mlinear\u001b[0m\u001b[0;34m(\u001b[0m\u001b[0minput\u001b[0m\u001b[0;34m,\u001b[0m \u001b[0mself\u001b[0m\u001b[0;34m.\u001b[0m\u001b[0mweight\u001b[0m\u001b[0;34m,\u001b[0m \u001b[0mself\u001b[0m\u001b[0;34m.\u001b[0m\u001b[0mbias\u001b[0m\u001b[0;34m)\u001b[0m\u001b[0;34m\u001b[0m\u001b[0;34m\u001b[0m\u001b[0m\n\u001b[0m\u001b[1;32m     95\u001b[0m \u001b[0;34m\u001b[0m\u001b[0m\n\u001b[1;32m     96\u001b[0m     \u001b[0;32mdef\u001b[0m \u001b[0mextra_repr\u001b[0m\u001b[0;34m(\u001b[0m\u001b[0mself\u001b[0m\u001b[0;34m)\u001b[0m \u001b[0;34m->\u001b[0m \u001b[0mstr\u001b[0m\u001b[0;34m:\u001b[0m\u001b[0;34m\u001b[0m\u001b[0;34m\u001b[0m\u001b[0m\n",
            "\u001b[0;32m/usr/local/lib/python3.7/dist-packages/torch/nn/functional.py\u001b[0m in \u001b[0;36mlinear\u001b[0;34m(input, weight, bias)\u001b[0m\n\u001b[1;32m   1751\u001b[0m     \u001b[0;32mif\u001b[0m \u001b[0mhas_torch_function_variadic\u001b[0m\u001b[0;34m(\u001b[0m\u001b[0minput\u001b[0m\u001b[0;34m,\u001b[0m \u001b[0mweight\u001b[0m\u001b[0;34m)\u001b[0m\u001b[0;34m:\u001b[0m\u001b[0;34m\u001b[0m\u001b[0;34m\u001b[0m\u001b[0m\n\u001b[1;32m   1752\u001b[0m         \u001b[0;32mreturn\u001b[0m \u001b[0mhandle_torch_function\u001b[0m\u001b[0;34m(\u001b[0m\u001b[0mlinear\u001b[0m\u001b[0;34m,\u001b[0m \u001b[0;34m(\u001b[0m\u001b[0minput\u001b[0m\u001b[0;34m,\u001b[0m \u001b[0mweight\u001b[0m\u001b[0;34m)\u001b[0m\u001b[0;34m,\u001b[0m \u001b[0minput\u001b[0m\u001b[0;34m,\u001b[0m \u001b[0mweight\u001b[0m\u001b[0;34m,\u001b[0m \u001b[0mbias\u001b[0m\u001b[0;34m=\u001b[0m\u001b[0mbias\u001b[0m\u001b[0;34m)\u001b[0m\u001b[0;34m\u001b[0m\u001b[0;34m\u001b[0m\u001b[0m\n\u001b[0;32m-> 1753\u001b[0;31m     \u001b[0;32mreturn\u001b[0m \u001b[0mtorch\u001b[0m\u001b[0;34m.\u001b[0m\u001b[0m_C\u001b[0m\u001b[0;34m.\u001b[0m\u001b[0m_nn\u001b[0m\u001b[0;34m.\u001b[0m\u001b[0mlinear\u001b[0m\u001b[0;34m(\u001b[0m\u001b[0minput\u001b[0m\u001b[0;34m,\u001b[0m \u001b[0mweight\u001b[0m\u001b[0;34m,\u001b[0m \u001b[0mbias\u001b[0m\u001b[0;34m)\u001b[0m\u001b[0;34m\u001b[0m\u001b[0;34m\u001b[0m\u001b[0m\n\u001b[0m\u001b[1;32m   1754\u001b[0m \u001b[0;34m\u001b[0m\u001b[0m\n\u001b[1;32m   1755\u001b[0m \u001b[0;34m\u001b[0m\u001b[0m\n",
            "\u001b[0;31mRuntimeError\u001b[0m: Tensor for 'out' is on CPU, Tensor for argument #1 'self' is on CPU, but expected them to be on GPU (while checking arguments for addmm)"
          ]
        }
      ]
    },
    {
      "cell_type": "markdown",
      "metadata": {
        "id": "4lw_rLKJLrwj"
      },
      "source": [
        "## 損失関数と最適化手法の定義"
      ]
    },
    {
      "cell_type": "code",
      "metadata": {
        "id": "1u_S60ZuE93x"
      },
      "source": [
        "criterion = nn.CrossEntropyLoss() #損失関数をCross Entropyに設定\n",
        "optimizer = optim.SGD(model.parameters(),lr=args.lr) #SGDに設定"
      ],
      "execution_count": null,
      "outputs": []
    },
    {
      "cell_type": "markdown",
      "metadata": {
        "id": "B7a0jctoqxh1"
      },
      "source": [
        "## 学習&評価用コード"
      ]
    },
    {
      "cell_type": "code",
      "metadata": {
        "id": "TVCNeWPHE_z5"
      },
      "source": [
        "for epoch in range(args.epoch):\n",
        "    run_loss=0\n",
        "    correct=0\n",
        "    total=0\n",
        "    for i,data in enumerate(train_loader):\n",
        "        inputs,labels=data\n",
        "        inputs,labels=Variable(inputs),Variable(labels)\n",
        "        optimizer.zero_grad()\n",
        "        outputs=model(inputs,train=True)\n",
        "        loss=criterion(outputs,labels)\n",
        "        loss.backward()\n",
        "        optimizer.step()\n",
        "        run_loss+=loss.item()\n",
        "        if i==len(train_loader)-1:\n",
        "            print('%d loss:%.7f'%(epoch+1,run_loss/len(train_loader)))\n",
        "            run_loss=0\n",
        "    for i,data in enumerate(test_loader):\n",
        "        inputs,labels=data\n",
        "        inputs,labels=Variable(inputs),Variable(labels)\n",
        "        outputs=model(inputs,train=False)\n",
        "        predicted=torch.argmax(outputs)\n",
        "        total+=labels.size(0)\n",
        "        correct+=(predicted==labels).sum()\n",
        "    print(\"Accuracy %d /%d =%.5f\" % (correct,total,float(correct)/total))\n",
        "    print(\"========================\")"
      ],
      "execution_count": null,
      "outputs": []
    },
    {
      "cell_type": "markdown",
      "metadata": {
        "id": "u19B1j_3e6Tm"
      },
      "source": [
        "## 分類された画像のプロット"
      ]
    },
    {
      "cell_type": "code",
      "metadata": {
        "id": "e39AZnbxFCNq"
      },
      "source": [
        "import matplotlib.pyplot as plt\n",
        "test_iter=iter(test_loader)\n",
        "\n",
        "GT_label,P_label,image=[],[],[]\n",
        "for i in range(100):\n",
        "    inputs,labels=test_iter.next()\n",
        "    outputs=model(Variable(inputs))\n",
        "    _,predicted=torch.max(outputs.data,1)\n",
        "    GT_label.append(labels[0].numpy().astype(np.int32))\n",
        "    P_label.append(predicted[0].numpy().astype(np.int32))\n",
        "    image.append(inputs[0].numpy().reshape(28,28))\n",
        "    \n",
        "plt.figure(figsize=[36,36])\n",
        "for e,(gt,p,i) in enumerate(zip(GT_label,P_label,image)):\n",
        "    plt.subplot(10,10,e+1)\n",
        "    plt.imshow(i,cmap='gray') #gray scaleで描画\n",
        "    plt.xticks([]) #目盛りいらない\n",
        "    plt.yticks([])\n",
        "    plt.title(\"true label # %01d\" %gt,c='b') #blueでtrue labelをタイトルとして描画\n",
        "    plt.xlabel(\"pred label # %01d\" %p,c='r') #redでpred labetをx軸ラベルとして描画"
      ],
      "execution_count": null,
      "outputs": []
    },
    {
      "cell_type": "markdown",
      "metadata": {
        "id": "OZocYxu619iN"
      },
      "source": [
        "## 課題1"
      ]
    },
    {
      "cell_type": "code",
      "metadata": {
        "id": "PeRu9tiWb73i"
      },
      "source": [
        "parser=argparse.ArgumentParser()\n",
        "parser.add_argument('--epoch',type=int,default=10,help='number of epoch')\n",
        "parser.add_argument('--in_size',type=int,default=784,help='input size')\n",
        "parser.add_argument('--hidden_size',type=int,default=100,help='hidden size')  ##←ここ50から100\n",
        "parser.add_argument('--out_size',type=int,default=10,help='output size')\n",
        "parser.add_argument('--batch_size',type=int,default=32,help='number of batch size')\n",
        "parser.add_argument('--lr',type=float,default=0.01,help='number of learning rate')\n",
        "args=parser.parse_args(args=[])"
      ],
      "execution_count": null,
      "outputs": []
    },
    {
      "cell_type": "markdown",
      "metadata": {
        "id": "7FnWPfoG2HJn"
      },
      "source": [
        "# 課題２"
      ]
    },
    {
      "cell_type": "code",
      "metadata": {
        "id": "PJnhJ5tu2LPD"
      },
      "source": [
        "criterion = nn.CrossEntropyLoss() #損失関数をCross Entropyに設定\n",
        "optimizer = optim.Adam(model.parameters(),lr=args.lr) #SGDに設定→adamに設定"
      ],
      "execution_count": null,
      "outputs": []
    },
    {
      "cell_type": "markdown",
      "metadata": {
        "id": "GO8hdK_g2Lqg"
      },
      "source": [
        "## 課題３"
      ]
    },
    {
      "cell_type": "code",
      "metadata": {
        "id": "EuoqVyOH_dlg"
      },
      "source": [
        "parser=argparse.ArgumentParser()\n",
        "parser.add_argument('--epoch',type=int,default=10,help='number of epoch')\n",
        "parser.add_argument('--in_size',type=int,default=784,help='input size')\n",
        "parser.add_argument('--hidden_size',type=int,default=40,help='hidden size')  ##←ここ50から40\n",
        "parser.add_argument('--out_size',type=int,default=10,help='output size')\n",
        "parser.add_argument('--batch_size',type=int,default=32,help='number of batch size')\n",
        "parser.add_argument('--lr',type=float,default=0.01,help='number of learning rate')\n",
        "args=parser.parse_args(args=[])"
      ],
      "execution_count": 14,
      "outputs": []
    },
    {
      "cell_type": "code",
      "metadata": {
        "id": "RWzE83wL2Rme"
      },
      "source": [
        "criterion = nn.CrossEntropyLoss() #損失関数をCross Entropyに設定\n",
        "optimizer = optim.Adam(model.parameters(),lr=args.lr) #SGDに設定→adamに設定"
      ],
      "execution_count": 15,
      "outputs": []
    },
    {
      "cell_type": "code",
      "metadata": {
        "colab": {
          "base_uri": "https://localhost:8080/"
        },
        "id": "RIupMSdO8So1",
        "outputId": "1349b4e8-9433-436b-ae25-59b11e20a931"
      },
      "source": [
        "for epoch in range(args.epoch):\n",
        "    run_loss=0\n",
        "    correct=0\n",
        "    total=0\n",
        "    for i,data in enumerate(train_loader):\n",
        "        inputs,labels=data\n",
        "        inputs,labels=Variable(inputs),Variable(labels)\n",
        "        optimizer.zero_grad()\n",
        "        outputs=model(inputs,train=True)\n",
        "        loss=criterion(outputs,labels)\n",
        "        loss.backward()\n",
        "        optimizer.step()\n",
        "        run_loss+=loss.item()\n",
        "        if i==len(train_loader)-1:\n",
        "            print('%d loss:%.7f'%(epoch+1,run_loss/len(train_loader)))\n",
        "            run_loss=0\n",
        "    for i,data in enumerate(test_loader):\n",
        "        inputs,labels=data\n",
        "        inputs,labels=Variable(inputs),Variable(labels)\n",
        "        outputs=model(inputs,train=False)\n",
        "        predicted=torch.argmax(outputs)\n",
        "        total+=labels.size(0)\n",
        "        correct+=(predicted==labels).sum()\n",
        "    print(\"Accuracy %d /%d =%.5f\" % (correct,total,float(correct)/total))\n",
        "    print(\"========================\")"
      ],
      "execution_count": 16,
      "outputs": [
        {
          "output_type": "stream",
          "text": [
            "1 loss:0.3751900\n",
            "Accuracy 51675 /60000 =0.86125\n",
            "========================\n",
            "2 loss:0.3646150\n",
            "Accuracy 51775 /60000 =0.86292\n",
            "========================\n",
            "3 loss:0.3696100\n",
            "Accuracy 51897 /60000 =0.86495\n",
            "========================\n",
            "4 loss:0.3668350\n",
            "Accuracy 51656 /60000 =0.86093\n",
            "========================\n",
            "5 loss:0.3679934\n",
            "Accuracy 51872 /60000 =0.86453\n",
            "========================\n",
            "6 loss:0.3598067\n",
            "Accuracy 51934 /60000 =0.86557\n",
            "========================\n",
            "7 loss:0.3633921\n",
            "Accuracy 52041 /60000 =0.86735\n",
            "========================\n",
            "8 loss:0.3637400\n",
            "Accuracy 51950 /60000 =0.86583\n",
            "========================\n",
            "9 loss:0.3580446\n",
            "Accuracy 51586 /60000 =0.85977\n",
            "========================\n",
            "10 loss:0.3585311\n",
            "Accuracy 51932 /60000 =0.86553\n",
            "========================\n"
          ],
          "name": "stdout"
        }
      ]
    },
    {
      "cell_type": "markdown",
      "metadata": {
        "id": "mE5mX1Lg_fgC"
      },
      "source": [
        "> SGDに設定→adamに設定  \n",
        "10 loss:0.6674661  \n",
        "Accuracy 45685 /60000 =0.76142  \n",
        "↓  \n",
        "10 loss:0.3191071  \n",
        "Accuracy 53158 /60000 =0.88597  \n",
        "  \n",
        "> かつ中間層を50→100に設定  \n",
        "10 loss:0.3191071  \n",
        "Accuracy 53158 /60000 =0.88597  \n",
        "↓  \n",
        "10 loss:0.3749852  \n",
        "Accuracy 51765 /60000 =0.86275  \n",
        "\n",
        "\n",
        "> なら中間層を100→40  \n",
        "10 loss:0.3191071  \n",
        "Accuracy 53158 /60000 =0.88597  \n",
        "↓  \n",
        "10 loss:0.3585311  \n",
        "Accuracy 51932 /60000 =0.86553  \n",
        "\n"
      ]
    },
    {
      "cell_type": "markdown",
      "metadata": {
        "id": "6dhkZtjghLCM"
      },
      "source": [
        "adamの中間層50が一番よさそう"
      ]
    },
    {
      "cell_type": "code",
      "metadata": {
        "id": "_mxtckEw8dmP"
      },
      "source": [
        ""
      ],
      "execution_count": 16,
      "outputs": []
    }
  ]
}